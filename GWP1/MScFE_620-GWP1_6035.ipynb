{
 "cells": [
  {
   "cell_type": "markdown",
   "id": "57fdd5b4",
   "metadata": {
    "id": "57fdd5b4"
   },
   "source": [
    "#### Project: MScFE_620-GWP1_6035 <br> By: Dhruv Singh, Sagar Dharmeshkumar Mehta, Fan Luo <br> Date Updated: 5/8/2024"
   ]
  },
  {
   "cell_type": "markdown",
   "id": "f614e300",
   "metadata": {
    "id": "f614e300"
   },
   "source": [
    "# MScFE_620-GWP1_6035"
   ]
  },
  {
   "cell_type": "code",
   "execution_count": 1,
   "id": "d82b48b2",
   "metadata": {},
   "outputs": [],
   "source": [
    "# libraries\n",
    "import numpy as np\n",
    "import pandas as pd\n",
    "import matplotlib.pyplot as plt"
   ]
  },
  {
   "cell_type": "markdown",
   "id": "b925fa64",
   "metadata": {},
   "source": [
    "### Question 5. Price an ATM European call and put using a binomial tree:\n",
    "\n",
    "a. **Price Calculation:**\n",
    "The price of a European option using the binomial tree method can be calculated as follows:\n",
    "\n",
    "\\$C_{0} = e^{-rT} \\sum_{i=0}^{N} \\binom{N}{i} p^i (1-p)^{N-i} \\max(S_{N,i} - K, 0)\\$\n",
    "\n",
    "\\$P_{0} = e^{-rT} \\sum_{i=0}^{N} \\binom{N}{i} p^i (1-p)^{N-i} \\max(K - S_{N,i}, 0)\\$\n",
    "\n",
    "Where:\n",
    "- \\$C_0\\$ is the price of the European call option at time \\$t=0\\$.\n",
    "- \\$P_0\\$ is the price of the European put option at time \\$t=0\\$.\n",
    "- \\$N\\$ is the number of steps in the binomial tree.\n",
    "- \\$p\\$ is the risk-neutral probability.\n",
    "- \\$S_{N,i}\\$ is the stock price at node \\((N,i)\\).\n",
    "- \\$K\\$ is the strike price.\n",
    "- \\$r\\$ is the risk-free interest rate.\n",
    "- \\$T\\$ is the time to maturity.\n",
    "\n",
    "b. **Description:**\n",
    "The binomial tree method involves constructing a tree of possible future stock prices based on the specified parameters such as volatility, risk-free rate, and time to maturity. Starting from the initial stock price \\$S_0\\$, the tree is built by moving up and down at each time step according to the volatility. The option prices at each node are then calculated recursively using backward induction until reaching the present time. The number of steps in the tree is chosen to strike a balance between accuracy and computational efficiency. Typically, a range of 100 to 200 steps provides reliable estimates.\n"
   ]
  },
  {
   "cell_type": "code",
   "execution_count": 2,
   "id": "7e6b29dc",
   "metadata": {},
   "outputs": [
    {
     "name": "stdout",
     "output_type": "stream",
     "text": [
      "ATM European Call Option Price: 4.61\n",
      "ATM European Put Option Price: 3.37\n"
     ]
    }
   ],
   "source": [
    "# Define the function for pricing European options using a binomial tree\n",
    "def european_option(S_ini, K, T, r, sigma, N, opttype):\n",
    "    dt = T / N  # Define time step\n",
    "    u = np.exp(sigma * np.sqrt(dt))  # Define u\n",
    "    d = np.exp(-sigma * np.sqrt(dt))  # Define d\n",
    "    p = (np.exp(r * dt) - d) / (u - d)  # risk neutral probs\n",
    "    C = np.zeros([N + 1, N + 1])  # call prices\n",
    "    S = np.zeros([N + 1, N + 1])  # underlying price\n",
    "\n",
    "    # Calculate option prices at maturity\n",
    "    for i in range(0, N + 1):\n",
    "        S[N, i] = S_ini * (u ** i) * (d ** (N - i))\n",
    "        if opttype == \"C\":\n",
    "            C[N, i] = max(S[N, i] - K, 0)\n",
    "        else:\n",
    "            C[N, i] = max(K - S[N, i], 0)\n",
    "\n",
    "    # Backward induction to calculate option prices at earlier nodes\n",
    "    for j in range(N - 1, -1, -1):\n",
    "        for i in range(0, j + 1):\n",
    "            C[j, i] = np.exp(-r * dt) * (p * C[j + 1, i + 1] + (1 - p) * C[j + 1, i])\n",
    "            S[j, i] = S_ini * (u ** i) * (d ** (j - i))\n",
    "\n",
    "    return C[0, 0], S\n",
    "\n",
    "# Define the parameters\n",
    "S_0 = 100\n",
    "K = 100  # ATM (At-The-Money) strike\n",
    "T = 3 / 12  # Time to maturity in years (3 months)\n",
    "r = 0.05  # Annual risk-free rate\n",
    "sigma = 0.20  # Volatility\n",
    "N = 150  # Number of steps in the binomial tree\n",
    "opttype_call = \"C\"\n",
    "opttype_put = \"P\"\n",
    "\n",
    "# Price the ATM European call option\n",
    "call_price, _ = european_option(S_0, K, T, r, sigma, N, opttype_call)\n",
    "print(\"ATM European Call Option Price:\", round(call_price, 2))\n",
    "\n",
    "# Price the ATM European put option\n",
    "put_price, _ = european_option(S_0, K, T, r, sigma, N, opttype_put)\n",
    "print(\"ATM European Put Option Price:\", round(put_price, 2))"
   ]
  },
  {
   "cell_type": "markdown",
   "id": "0a4c54bc",
   "metadata": {},
   "source": [
    "### Question 6: Compute the Greek Delta for the European call and European put at time 0:\n",
    "\n",
    "a. Delta for the European call option \\$( \\Delta_{\\text{Call}} )\\$ can be calculated as:\n",
    "\n",
    "\\$\\Delta_{\\text{Call}} = \\frac{S_1^1 - S_1^0}{S_0 \\times (u - d)}\\$\n",
    "\n",
    "b. Delta for the European put option \\$( \\Delta_{\\text{Put}} )\\$ can be calculated as:\n",
    "\n",
    "\\$\\Delta_{\\text{Put}} = \\frac{S_1^0 - S_1^1}{S_0 \\times (u - d)}\\$\n",
    "\n",
    "Where:\n",
    "- \\$ S_1^1 \\$ is the stock price at node 1 if the stock price goes up (i.e., \\$ S_1^1 = S_0 \\times u \\$)\n",
    "- \\$ S_1^0 \\$ is the stock price at node 1 if the stock price goes down (i.e., \\$ S_1^0 = S_0 \\times d \\$)\n",
    "- \\$ S_0 \\$ is the initial stock price\n",
    "- \\$ u \\$ is the factor by which the stock price goes up in each step\n",
    "- \\$ d \\$ is the factor by which the stock price goes down in each step\n",
    "\n",
    "These equations calculate the sensitivity of the option price to changes in the underlying asset price, known as Delta.\n"
   ]
  },
  {
   "cell_type": "code",
   "execution_count": 4,
   "id": "a53182f8",
   "metadata": {},
   "outputs": [
    {
     "name": "stdout",
     "output_type": "stream",
     "text": [
      "Delta for European Call Option: 1.0\n",
      "Delta for European Put Option: -1.0\n"
     ]
    }
   ],
   "source": [
    "# Define the function to compute Delta for European options\n",
    "def european_delta(S_ini, K, T, r, sigma, N, opttype):\n",
    "    dt = T / N  # Define time step\n",
    "    u = np.exp(sigma * np.sqrt(dt))  # Define u\n",
    "    d = np.exp(-sigma * np.sqrt(dt))  # Define d\n",
    "    p = (np.exp(r * dt) - d) / (u - d)  # risk neutral probs\n",
    "    S = np.zeros([N + 1, N + 1])  # underlying price\n",
    "\n",
    "    # Calculate option prices at maturity\n",
    "    for i in range(0, N + 1):\n",
    "        S[N, i] = S_ini * (u ** i) * (d ** (N - i))\n",
    "\n",
    "    # Backward induction to calculate option prices at earlier nodes\n",
    "    for j in range(N - 1, -1, -1):\n",
    "        for i in range(0, j + 1):\n",
    "            S[j, i] = S_ini * (u ** i) * (d ** (j - i))\n",
    "\n",
    "    # Compute Delta at time 0\n",
    "    if opttype == \"C\":\n",
    "        delta = (S[1, 1] - S[1, 0]) / (S_ini * u - S_ini * d)\n",
    "    else:\n",
    "        delta = (S[1, 0] - S[1, 1]) / (S_ini * u - S_ini * d)\n",
    "\n",
    "    return delta\n",
    "\n",
    "# Define the parameters\n",
    "S_0 = 100\n",
    "K = 100  # ATM (At-The-Money) strike\n",
    "T = 3 / 12  # Time to maturity in years (3 months)\n",
    "r = 0.05  # Annual risk-free rate\n",
    "sigma = 0.20  # Volatility\n",
    "N = 150  # Number of steps in the binomial tree\n",
    "opttype_call = \"C\"\n",
    "opttype_put = \"P\"\n",
    "\n",
    "# Compute Delta for the European call option\n",
    "call_delta = european_delta(S_0, K, T, r, sigma, N, opttype_call)\n",
    "print(\"Delta for European Call Option:\", round(call_delta, 2))\n",
    "\n",
    "# Compute Delta for the European put option\n",
    "put_delta = european_delta(S_0, K, T, r, sigma, N, opttype_put)\n",
    "print(\"Delta for European Put Option:\", round(put_delta, 2))"
   ]
  },
  {
   "cell_type": "code",
   "execution_count": null,
   "id": "c1ff2cd1",
   "metadata": {},
   "outputs": [],
   "source": []
  }
 ],
 "metadata": {
  "colab": {
   "provenance": []
  },
  "kernelspec": {
   "display_name": "Python 3 (ipykernel)",
   "language": "python",
   "name": "python3"
  },
  "language_info": {
   "codemirror_mode": {
    "name": "ipython",
    "version": 3
   },
   "file_extension": ".py",
   "mimetype": "text/x-python",
   "name": "python",
   "nbconvert_exporter": "python",
   "pygments_lexer": "ipython3",
   "version": "3.11.5"
  }
 },
 "nbformat": 4,
 "nbformat_minor": 5
}
